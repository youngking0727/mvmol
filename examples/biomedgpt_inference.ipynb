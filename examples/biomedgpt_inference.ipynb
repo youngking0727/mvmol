{
 "cells": [
  {
   "cell_type": "code",
   "execution_count": 1,
   "metadata": {},
   "outputs": [
    {
     "data": {
      "text/plain": [
       "'/mnt/luoyz_dair/OpenBioMed'"
      ]
     },
     "execution_count": 1,
     "metadata": {},
     "output_type": "execute_result"
    }
   ],
   "source": [
    "import os.path as osp\n",
    "import sys\n",
    "path = osp.dirname(osp.abspath(''))\n",
    "sys.path.append(path)\n",
    "sys.path.append(osp.join(path, \"open_biomed\"))\n",
    "path"
   ]
  },
  {
   "cell_type": "markdown",
   "metadata": {},
   "source": [
    "BioMedGPT-10B is composed of a language model (BioMedGPT-LM-7B), a molecule encoder (GraphMVP), a protein encoder (ESM2-3B) and two modality adaptors. For inference, install `config.json`, `special_token_map.json`, `tokenizer_config.json`, `tokenizer.json`, `tokenizer.model` for BioMedGPT-LM-7B [here](https://huggingface.co/PharMolix/BioMedGPT-LM-7B) and put them under `OpenBioMed/ckpts/text_ckpts/biomedgpt-lm-7b`. Install `config.json`, `tokenizer_config.json`, `vocab.txt` for ESM2-3B [here](https://huggingface.co/facebook/esm2_t36_3B_UR50D) and put them under `OpenBioMed/ckpts/text_ckpts/biomedgpt-lm-7b`. Approximately 20GB GPU Memory is required to load BioMedGPT-10B with fp16."
   ]
  },
  {
   "cell_type": "code",
   "execution_count": 2,
   "metadata": {},
   "outputs": [
    {
     "name": "stderr",
     "output_type": "stream",
     "text": [
      "/home/luoyz/.conda/envs/biomedgpt/lib/python3.9/site-packages/tqdm/auto.py:21: TqdmWarning: IProgress not found. Please update jupyter and ipywidgets. See https://ipywidgets.readthedocs.io/en/stable/user_install.html\n",
      "  from .autonotebook import tqdm as notebook_tqdm\n"
     ]
    },
    {
     "name": "stdout",
     "output_type": "stream",
     "text": [
      "Config:  {'name': 'biomedgptv', 'data': {'mol': {'modality': ['structure'], 'featurizer': {'structure': {'name': 'BaseGNN'}}}, 'protein': {'modality': ['structure'], 'featurizer': {'structure': {'name': 'transformertok', 'transformer_type': 'esm', 'model_name_or_path': '/mnt/luoyz_dair/OpenBioMed/ckpts/protein_ckpts/esm2-3b', 'max_length': 1024}}}}, 'network': {'mol': {'gin_hidden_dim': 300, 'gin_num_layers': 5, 'drop_ratio': 0.0, 'max_n_nodes': 256, 'freeze': True}, 'protein': {'model_name_or_path': '/mnt/luoyz_dair/OpenBioMed/ckpts/protein_ckpts/esm2-3b', 'lora': False, 'freeze': True, 'use_float16': True}, 'llm': {'model_name_or_path': '/mnt/luoyz_dair/OpenBioMed/ckpts/text_ckpts/biomedgpt-lm-7b', 'use_float16': True}}}\n",
      "Finish loading model\n"
     ]
    }
   ],
   "source": [
    "# load biomedgpt model\n",
    "import json\n",
    "import torch\n",
    "from open_biomed.utils import fix_path_in_config\n",
    "from open_biomed.models.multimodal import BioMedGPTV\n",
    "\n",
    "config = json.load(open(\"../configs/encoders/multimodal/biomedgptv.json\", \"r\"))\n",
    "fix_path_in_config(config, path)\n",
    "print(\"Config: \", config)\n",
    "\n",
    "device = torch.device(\"cuda:3\")\n",
    "config[\"network\"][\"device\"] = device\n",
    "model = BioMedGPTV(config[\"network\"])\n",
    "ckpt = torch.load(\"../ckpts/fusion_ckpts/biomedgpt_10b.pth\")\n",
    "model.load_state_dict(ckpt)\n",
    "model = model.to(device)\n",
    "model.eval()\n",
    "print(\"Finish loading model\")"
   ]
  },
  {
   "cell_type": "code",
   "execution_count": 3,
   "metadata": {},
   "outputs": [
    {
     "name": "stdout",
     "output_type": "stream",
     "text": [
      "Human:  Please describe this molecule.\n",
      "Assistant:  The molecule is a member of the class of flavonoids that is 3-hydroxyflavone substituted by a 3-hydroxy-4-methoxyphenyl group at position 7. It has a role as a plant metabolite. It is a member of flavonoids, a member of 3-hydroxyflavones and a member of 3-hydroxyflavones. It derives from a 3-hydroxyflavone.\n"
     ]
    }
   ],
   "source": [
    "# chat\n",
    "from open_biomed.utils.chat_utils import Conversation\n",
    "\n",
    "prompt_sys = \"You are working as an excellent assistant in chemistry and molecule discovery. \" + \\\n",
    "             \"Below a human expert gives the representation of a molecule or a protein. Answer questions about it. \"\n",
    "chat = Conversation(\n",
    "    model=model, \n",
    "    processor_config=config[\"data\"], \n",
    "    device=device,\n",
    "    system=prompt_sys,\n",
    "    roles=(\"Human\", \"Assistant\"),\n",
    "    sep=\"###\",\n",
    "    max_length=2048\n",
    ")\n",
    "chat.append_molecule(\"CC(=CCC1=CC(=CC(=C1O)CC=C(C)C)/C=C/C(=O)C2=C(C=C(C=C2)O)O)C\")\n",
    "question = \"Please describe this molecule.\"\n",
    "print(\"Human: \", question)\n",
    "chat.ask(question)\n",
    "print(\"Assistant: \", chat.answer()[0])"
   ]
  },
  {
   "cell_type": "code",
   "execution_count": 9,
   "metadata": {},
   "outputs": [
    {
     "name": "stdout",
     "output_type": "stream",
     "text": [
      "Human:  What is the protein family of this protein?\n",
      "Assistant:  Belongs to the ACC deaminase/D-cysteine desulfhydrase family.\n"
     ]
    }
   ],
   "source": [
    "chat.reset()\n",
    "chat.append_protein(\"MNLNRFERYPLTFGPSPITPLKRLSQHLGGKVELYAKREDCNSGLAFGGNKTRKLEYLIPEAIEQGCDTLVSIGGIQSNQTRQVAAVAAHLGMKCVLVQENWVNYSDAVYDRVGNIEMSRIMGADVRLDAAGFDIGIRPSWEKAMSDVVEQGGKPFPIPAGCSEHPYGGLGFVGFAEEVRQQEKELGFKFDYIVVCSVTGSTQAGMVVGFAADGRSKNVIGIDASAKPEQTKAQILRIARHTAELVELGREITEEDVVLDTRFAYPEYGLPNEGTLEAIRLCGSLEGVLTDPVYEGKSMHGMIEMVRRGEFPEGSKVLYAHLGGAPALNAYSFLFRNG\")\n",
    "question = \"What is the protein family of this protein?\"\n",
    "print(\"Human: \", question)\n",
    "chat.ask(question)\n",
    "print(\"Assistant: \", chat.answer()[0])"
   ]
  },
  {
   "cell_type": "code",
   "execution_count": 6,
   "metadata": {},
   "outputs": [
    {
     "name": "stdout",
     "output_type": "stream",
     "text": [
      "Human:  Please describe the EGFR pathway.\n",
      "Assistant:  1. The EGFR pathway is a signaling pathway that is activated by the binding of the epidermal growth factor (EGF) to its receptor. 2. The EGFR pathway is involved in a variety of cellular processes, including cell proliferation, differentiation, and survival. 3. The EGFR pathway is often dysregulated in cancer, leading to uncontrolled cell growth and tumor formation. 4. The EGFR pathway is a complex network of interactions between multiple proteins, including EGFR, ErbB2, ErbB3, and ErbB4. 5. The EGFR pathway is regulated by a variety of molecules, including growth factors, cytokines, and hormones. 6. The EGFR pathway is involved in a variety of diseases, including cancer, inflammation, and neurodegenerative disorders. 7. The EGFR pathway is a promising target for the development of new cancer therapies. 8. The EGFR pathway is also involved in other diseases, such as inflammation\n"
     ]
    }
   ],
   "source": [
    "chat.reset()\n",
    "question = \"Please describe the EGFR pathway.\"\n",
    "print(\"Human: \", question)\n",
    "chat.ask(question)\n",
    "print(\"Assistant: \", chat.answer()[0])"
   ]
  }
 ],
 "metadata": {
  "kernelspec": {
   "display_name": "Python 3.9.17 ('biomedgpt')",
   "language": "python",
   "name": "python3"
  },
  "language_info": {
   "codemirror_mode": {
    "name": "ipython",
    "version": 3
   },
   "file_extension": ".py",
   "mimetype": "text/x-python",
   "name": "python",
   "nbconvert_exporter": "python",
   "pygments_lexer": "ipython3",
   "version": "3.9.17"
  },
  "orig_nbformat": 4,
  "vscode": {
   "interpreter": {
    "hash": "5fbd8d22c16f34e321c30f54b15d96f9da9d2be90b6d3d0d78fbecae1315a862"
   }
  }
 },
 "nbformat": 4,
 "nbformat_minor": 2
}
