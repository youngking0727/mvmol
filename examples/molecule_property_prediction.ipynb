{
 "cells": [
  {
   "cell_type": "code",
   "execution_count": 1,
   "metadata": {},
   "outputs": [
    {
     "data": {
      "text/plain": [
       "'/mnt/luoyz_dair/OpenBioMed'"
      ]
     },
     "execution_count": 1,
     "metadata": {},
     "output_type": "execute_result"
    }
   ],
   "source": [
    "import os.path as osp\n",
    "import sys\n",
    "path = osp.dirname(osp.abspath(''))\n",
    "sys.path.append(path)\n",
    "path"
   ]
  },
  {
   "cell_type": "code",
   "execution_count": 34,
   "metadata": {},
   "outputs": [
    {
     "name": "stderr",
     "output_type": "stream",
     "text": [
      "100%|██████████| 93087/93087 [01:37<00:00, 957.05it/s] \n"
     ]
    },
    {
     "name": "stdout",
     "output_type": "stream",
     "text": [
      "(74469, 256) (9309, 256) (9309, 256)\n"
     ]
    }
   ],
   "source": [
    "import numpy as np\n",
    "from tqdm import tqdm\n",
    "\n",
    "from open_biomed.datasets.dp_dataset import MoleculeNetDataset\n",
    "\n",
    "config = {\n",
    "    \"mol\": {\n",
    "        \"modality\": [\"structure\"],\n",
    "        \"featurizer\": {\n",
    "            \"structure\": {\n",
    "                \"name\": \"fingerprint\",\n",
    "                \"which\": \"rdk\",\n",
    "                \"radius\": 2,\n",
    "                \"fp_size\": 256,\n",
    "                \"return_type\": \"np\"\n",
    "            }\n",
    "        }\n",
    "    }\n",
    "}\n",
    "path = \"../datasets/dp\"\n",
    "dataset = MoleculeNetDataset(path, config, name=\"MUV\")\n",
    "dataset._configure_featurizer()\n",
    "dataset.drugs = [dataset.drug_featurizer(drug) for drug in tqdm(dataset.drugs)]\n",
    "\n",
    "train = dataset.index_select(dataset.train_index)\n",
    "val = dataset.index_select(dataset.val_index)\n",
    "test = dataset.index_select(dataset.test_index)\n",
    "train_X, train_Y = np.array(train.drugs), np.array(train.labels)\n",
    "val_X, val_Y = np.array(val.drugs), np.array(val.labels)\n",
    "test_X, test_Y = np.array(test.drugs), np.array(test.labels)\n",
    "print(train_X.shape, val_X.shape, test_X.shape)"
   ]
  },
  {
   "cell_type": "code",
   "execution_count": 41,
   "metadata": {},
   "outputs": [
    {
     "name": "stdout",
     "output_type": "stream",
     "text": [
      "(74469, 17)\n",
      "22.0 5.0 0.0\n",
      "21.0 2.0 6.0\n",
      "20.0 3.0 7.0\n",
      "23.0 4.0 3.0\n",
      "18.0 4.0 7.0\n",
      "25.0 2.0 2.0\n",
      "25.0 3.0 2.0\n",
      "21.0 3.0 4.0\n",
      "24.0 3.0 2.0\n",
      "21.0 3.0 4.0\n",
      "21.0 2.0 6.0\n",
      "23.0 2.0 4.0\n",
      "24.0 6.0 0.0\n",
      "26.0 2.0 2.0\n",
      "22.0 4.0 3.0\n",
      "23.0 4.0 2.0\n",
      "21.0 0.0 3.0\n",
      "(74469, 17)\n",
      "22.0 5.0 0.0\n",
      "21.0 2.0 6.0\n",
      "20.0 3.0 7.0\n",
      "23.0 4.0 3.0\n",
      "18.0 4.0 7.0\n",
      "25.0 2.0 2.0\n",
      "25.0 3.0 2.0\n",
      "21.0 3.0 4.0\n",
      "24.0 3.0 2.0\n",
      "21.0 3.0 4.0\n",
      "21.0 2.0 6.0\n",
      "23.0 2.0 4.0\n",
      "24.0 6.0 0.0\n",
      "26.0 2.0 2.0\n",
      "22.0 4.0 3.0\n",
      "23.0 4.0 2.0\n",
      "21.0 0.0 3.0\n",
      "(74469, 17)\n",
      "22.0 5.0 0.0\n",
      "21.0 2.0 6.0\n",
      "20.0 3.0 7.0\n",
      "23.0 4.0 3.0\n",
      "18.0 4.0 7.0\n",
      "25.0 2.0 2.0\n",
      "25.0 3.0 2.0\n",
      "21.0 3.0 4.0\n",
      "24.0 3.0 2.0\n",
      "21.0 3.0 4.0\n",
      "21.0 2.0 6.0\n",
      "23.0 2.0 4.0\n",
      "24.0 6.0 0.0\n",
      "26.0 2.0 2.0\n",
      "22.0 4.0 3.0\n",
      "23.0 4.0 2.0\n",
      "21.0 0.0 3.0\n"
     ]
    },
    {
     "name": "stderr",
     "output_type": "stream",
     "text": [
      "/home/luoyz/.conda/envs/biomedgpt/lib/python3.9/site-packages/numpy/core/fromnumeric.py:3464: RuntimeWarning: Mean of empty slice.\n",
      "  return _methods._mean(a, axis=axis, dtype=dtype,\n",
      "/home/luoyz/.conda/envs/biomedgpt/lib/python3.9/site-packages/numpy/core/_methods.py:192: RuntimeWarning: invalid value encountered in scalar divide\n",
      "  ret = ret.dtype.type(ret / rcount)\n"
     ]
    },
    {
     "ename": "TypeError",
     "evalue": "must be real number, not NoneType",
     "output_type": "error",
     "traceback": [
      "\u001b[0;31m---------------------------------------------------------------------------\u001b[0m",
      "\u001b[0;31mTypeError\u001b[0m                                 Traceback (most recent call last)",
      "Cell \u001b[0;32mIn[41], line 55\u001b[0m\n\u001b[1;32m     53\u001b[0m             best_val \u001b[38;5;241m=\u001b[39m np\u001b[38;5;241m.\u001b[39mmean(cur_val)\n\u001b[1;32m     54\u001b[0m             best_test \u001b[38;5;241m=\u001b[39m (np\u001b[38;5;241m.\u001b[39mmean(cur_test), np\u001b[38;5;241m.\u001b[39mmean([np\u001b[38;5;241m.\u001b[39msqrt(np\u001b[38;5;241m.\u001b[39mvar(np\u001b[38;5;241m.\u001b[39marray(cur_test)[:, i])) \u001b[38;5;28;01mfor\u001b[39;00m i \u001b[38;5;129;01min\u001b[39;00m \u001b[38;5;28mrange\u001b[39m(train_Y\u001b[38;5;241m.\u001b[39mshape[\u001b[38;5;241m1\u001b[39m])]))\n\u001b[0;32m---> 55\u001b[0m \u001b[38;5;28mprint\u001b[39m(\u001b[38;5;124;43m\"\u001b[39;49m\u001b[38;5;124;43mResults = \u001b[39;49m\u001b[38;5;132;43;01m%.4lf\u001b[39;49;00m\u001b[38;5;124;43m±\u001b[39;49m\u001b[38;5;132;43;01m%.4lf\u001b[39;49;00m\u001b[38;5;124;43m\"\u001b[39;49m\u001b[43m \u001b[49m\u001b[38;5;241;43m%\u001b[39;49m\u001b[43m \u001b[49m\u001b[43mbest_test\u001b[49m)\n",
      "\u001b[0;31mTypeError\u001b[0m: must be real number, not NoneType"
     ]
    }
   ],
   "source": [
    "from sklearn.ensemble import RandomForestClassifier\n",
    "from open_biomed.utils.metrics import roc_auc\n",
    "\n",
    "\"\"\"\n",
    "params_dict = {\n",
    "    \"n_estimators\": [50, 100, 200],\n",
    "    \"max_features\": [\"sqrt\", \"log2\", None],\n",
    "}\n",
    "results = []\n",
    "\"\"\"\n",
    "params_dict = {\n",
    "    \"n_estimators\": [200],\n",
    "    \"max_features\": [None]\n",
    "}\n",
    "\n",
    "best_val = 0\n",
    "best_test = None\n",
    "\n",
    "for n_estimators in params_dict[\"n_estimators\"]:\n",
    "    for max_features in params_dict[\"max_features\"]:\n",
    "        cur_val = []\n",
    "        cur_test = []\n",
    "        for seed in (2, 3, 4):\n",
    "            np.random.seed(seed)\n",
    "            model = RandomForestClassifier(\n",
    "                n_estimators=n_estimators,\n",
    "                max_features=max_features,\n",
    "                n_jobs=4,\n",
    "                max_depth=5\n",
    "            )\n",
    "            #model.fit(train_X, train_Y)\n",
    "            val_per_task = []\n",
    "            test_per_task = []\n",
    "            print(train_Y.shape)\n",
    "            for i in range(train_Y.shape[1]):\n",
    "                print(np.sum(train_Y[:, i]), np.sum(val_Y[:, i]), np.sum(test_Y[:, i]))\n",
    "                continue\n",
    "                if train_Y.shape[1] != 1:\n",
    "                    pred_val = model.predict_proba(val_X)[i][:, 1]\n",
    "                    pred_test = model.predict_proba(test_X)[i][:, 1]\n",
    "                else:\n",
    "                    pred_val = model.predict_proba(val_X)[:, 1]\n",
    "                    pred_test = model.predict_proba(test_X)[:, 1]\n",
    "                #print(\"n_estimators = %d\" % n_estimators)\n",
    "                #print(\"max_features = \", max_features)\n",
    "                val_per_task.append(roc_auc(val_Y[:, i], pred_val))\n",
    "                test_per_task.append(roc_auc(test_Y[:, i], pred_test))\n",
    "                #print(\"AUROC val = %.4lf\" % cur_val)\n",
    "                #print(\"AUROC_test = %.4lf\" % cur_test)\n",
    "            cur_val.append(val_per_task)\n",
    "            cur_test.append(test_per_task)\n",
    "        if np.mean(cur_val) > best_val:\n",
    "            best_val = np.mean(cur_val)\n",
    "            best_test = (np.mean(cur_test), np.mean([np.sqrt(np.var(np.array(cur_test)[:, i])) for i in range(train_Y.shape[1])]))\n",
    "print(\"Results = %.4lf±%.4lf\" % best_test)\n"
   ]
  },
  {
   "cell_type": "code",
   "execution_count": 35,
   "metadata": {},
   "outputs": [
    {
     "name": "stdout",
     "output_type": "stream",
     "text": [
      "22 0\n"
     ]
    },
    {
     "name": "stderr",
     "output_type": "stream",
     "text": [
      "/home/luoyz/.conda/envs/biomedgpt/lib/python3.9/site-packages/sklearn/metrics/_ranking.py:1132: UndefinedMetricWarning: No positive samples in y_true, true positive value should be meaningless\n",
      "  warnings.warn(\n"
     ]
    },
    {
     "name": "stdout",
     "output_type": "stream",
     "text": [
      "22 1\n",
      "22 2\n",
      "22 3\n",
      "22 4\n",
      "22 5\n",
      "22 6\n",
      "22 7\n",
      "22 8\n",
      "22 9\n",
      "22 10\n",
      "22 11\n",
      "22 12\n"
     ]
    },
    {
     "name": "stderr",
     "output_type": "stream",
     "text": [
      "/home/luoyz/.conda/envs/biomedgpt/lib/python3.9/site-packages/sklearn/metrics/_ranking.py:1132: UndefinedMetricWarning: No positive samples in y_true, true positive value should be meaningless\n",
      "  warnings.warn(\n"
     ]
    },
    {
     "name": "stdout",
     "output_type": "stream",
     "text": [
      "22 13\n",
      "22 14\n",
      "22 15\n",
      "22 16\n",
      "0.6833759479380893\n",
      "Results = 0.6412±0.0000\n"
     ]
    },
    {
     "name": "stderr",
     "output_type": "stream",
     "text": [
      "/home/luoyz/.conda/envs/biomedgpt/lib/python3.9/site-packages/sklearn/metrics/_ranking.py:1132: UndefinedMetricWarning: No positive samples in y_true, true positive value should be meaningless\n",
      "  warnings.warn(\n"
     ]
    }
   ],
   "source": [
    "from sklearn.svm import SVC, LinearSVC\n",
    "from sklearn.calibration import CalibratedClassifierCV\n",
    "from open_biomed.utils.metrics import roc_auc\n",
    "\n",
    "cur_val = []\n",
    "cur_test = []\n",
    "for seed in [22]:\n",
    "    val_per_task = []\n",
    "    test_per_task = []\n",
    "    for i in range(train_Y.shape[1]):\n",
    "        print(seed, i)\n",
    "        \"\"\"\n",
    "        model = SVC(\n",
    "            kernel='linear', \n",
    "            C=0.05,\n",
    "            random_state=seed,\n",
    "            probability=True,\n",
    "            #max_iter=1000\n",
    "        )\n",
    "        \"\"\"\n",
    "\n",
    "        model = CalibratedClassifierCV(LinearSVC(\n",
    "            C=0.1,\n",
    "            random_state=seed,\n",
    "            dual='auto'\n",
    "        ))\n",
    "\n",
    "        model.fit(train_X, train_Y[:, i])\n",
    "        \n",
    "        pred_val = model.predict_proba(val_X)[:, 1]\n",
    "        pred_test = model.predict_proba(test_X)[:, 1]\n",
    "        auc_val = roc_auc(val_Y[:, i], pred_val)\n",
    "        auc_test = roc_auc(test_Y[:, i], pred_test)\n",
    "        if not np.isnan(auc_val) and not np.isnan(auc_test):\n",
    "            val_per_task.append(auc_val)\n",
    "            test_per_task.append(auc_test)\n",
    "            #print(test_per_task[-1])\n",
    "    cur_val.append(val_per_task)\n",
    "    cur_test.append(test_per_task)\n",
    "print(np.mean(cur_val))\n",
    "print(\"Results = %.4lf±%.4lf\" % (np.mean(cur_test), np.mean([np.sqrt(np.var(np.array(cur_test)[:, i])) for i in range(len(cur_test[0]))])))"
   ]
  },
  {
   "cell_type": "code",
   "execution_count": 43,
   "metadata": {},
   "outputs": [
    {
     "name": "stdout",
     "output_type": "stream",
     "text": [
      "TtestResult(statistic=7.810249675906737, pvalue=0.016001032391817542, df=2)\n"
     ]
    }
   ],
   "source": [
    "from scipy.stats import ttest_rel\n",
    "a = [64.4, 66.0, 67.5]\n",
    "b = [62.8, 64.0, 65.0]\n",
    "print(ttest_rel(a, b))"
   ]
  }
 ],
 "metadata": {
  "kernelspec": {
   "display_name": "Python 3.9.17 ('biomedgpt')",
   "language": "python",
   "name": "python3"
  },
  "language_info": {
   "codemirror_mode": {
    "name": "ipython",
    "version": 3
   },
   "file_extension": ".py",
   "mimetype": "text/x-python",
   "name": "python",
   "nbconvert_exporter": "python",
   "pygments_lexer": "ipython3",
   "version": "3.9.17"
  },
  "orig_nbformat": 4,
  "vscode": {
   "interpreter": {
    "hash": "5fbd8d22c16f34e321c30f54b15d96f9da9d2be90b6d3d0d78fbecae1315a862"
   }
  }
 },
 "nbformat": 4,
 "nbformat_minor": 2
}
